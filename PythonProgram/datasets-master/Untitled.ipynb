{
 "cells": [
  {
   "cell_type": "code",
   "execution_count": 1,
   "metadata": {},
   "outputs": [],
   "source": [
    "import pandas"
   ]
  },
  {
   "cell_type": "code",
   "execution_count": 2,
   "metadata": {},
   "outputs": [
    {
     "data": {
      "text/plain": [
       "['.ipynb_checkpoints',\n",
       " 'bigmac.csv',\n",
       " 'chicago.csv',\n",
       " 'Data - Multiple Worksheets.xlsx',\n",
       " 'Data - Single Worksheet.xlsx',\n",
       " 'ecommerce.csv',\n",
       " 'employees.csv',\n",
       " 'foods.csv',\n",
       " 'fortune1000.csv',\n",
       " 'google_stock_price.csv',\n",
       " 'jamesbond.csv',\n",
       " 'nba.csv',\n",
       " 'pokemon.csv',\n",
       " 'quarters.csv',\n",
       " 'Restaurant - Customers.csv',\n",
       " 'Restaurant - Foods.csv',\n",
       " 'Restaurant - Week 1 Sales.csv',\n",
       " 'Restaurant - Week 1 Satisfaction.csv',\n",
       " 'Restaurant - Week 2 Sales.csv',\n",
       " 'revenue.csv',\n",
       " 'salesmen.csv',\n",
       " 'Untitled.ipynb',\n",
       " 'worldstats.csv']"
      ]
     },
     "execution_count": 2,
     "metadata": {},
     "output_type": "execute_result"
    }
   ],
   "source": [
    "import os\n",
    "os.listdir()"
   ]
  },
  {
   "cell_type": "code",
   "execution_count": null,
   "metadata": {},
   "outputs": [],
   "source": []
  }
 ],
 "metadata": {
  "kernelspec": {
   "display_name": "Python 3",
   "language": "python",
   "name": "python3"
  },
  "language_info": {
   "codemirror_mode": {
    "name": "ipython",
    "version": 3
   },
   "file_extension": ".py",
   "mimetype": "text/x-python",
   "name": "python",
   "nbconvert_exporter": "python",
   "pygments_lexer": "ipython3",
   "version": "3.7.1"
  }
 },
 "nbformat": 4,
 "nbformat_minor": 2
}
